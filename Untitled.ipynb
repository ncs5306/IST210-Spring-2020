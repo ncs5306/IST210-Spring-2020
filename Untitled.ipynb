{
  "nbformat": 4,
  "nbformat_minor": 0,
  "metadata": {
    "colab": {
      "name": "Untitled",
      "provenance": [],
      "collapsed_sections": [],
      "authorship_tag": "ABX9TyNm1aPO347Ng74BKyMbg7JX",
      "include_colab_link": true
    },
    "kernelspec": {
      "name": "python3",
      "display_name": "Python 3"
    }
  },
  "cells": [
    {
      "cell_type": "markdown",
      "metadata": {
        "id": "view-in-github",
        "colab_type": "text"
      },
      "source": [
        "<a href=\"https://colab.research.google.com/github/ncs5306/IST210-Spring-2020/blob/master/Untitled.ipynb\" target=\"_parent\"><img src=\"https://colab.research.google.com/assets/colab-badge.svg\" alt=\"Open In Colab\"/></a>"
      ]
    },
    {
      "cell_type": "markdown",
      "metadata": {
        "id": "K-THWQmUT06M",
        "colab_type": "text"
      },
      "source": [
        "# Nick Saros"
      ]
    },
    {
      "cell_type": "markdown",
      "metadata": {
        "id": "a3Aakag_T7iF",
        "colab_type": "text"
      },
      "source": [
        "# Coding, Networking and Data Organization"
      ]
    },
    {
      "cell_type": "markdown",
      "metadata": {
        "id": "eyCxtq64UEXr",
        "colab_type": "text"
      },
      "source": [
        "# Cyber Security"
      ]
    },
    {
      "cell_type": "markdown",
      "metadata": {
        "id": "O67bSFxsdxKl",
        "colab_type": "text"
      },
      "source": [
        "![alt text](https://drive.google.com/uc?id=1ev4TRpqWT3gDT-zpRadRqOKmBEcpIVEJ)"
      ]
    }
  ]
}